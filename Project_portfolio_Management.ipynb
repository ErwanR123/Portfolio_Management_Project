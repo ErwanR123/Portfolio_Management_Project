{
 "cells": [
  {
   "cell_type": "code",
   "execution_count": 61,
   "metadata": {},
   "outputs": [
    {
     "name": "stdout",
     "output_type": "stream",
     "text": [
      "Requirement already satisfied: yfinance in c:\\users\\gamer\\appdata\\local\\programs\\python\\python39\\lib\\site-packages (0.2.49)\n",
      "Requirement already satisfied: pandas>=1.3.0 in c:\\users\\gamer\\appdata\\local\\programs\\python\\python39\\lib\\site-packages (from yfinance) (2.2.3)\n",
      "Requirement already satisfied: numpy>=1.16.5 in c:\\users\\gamer\\appdata\\local\\programs\\python\\python39\\lib\\site-packages (from yfinance) (1.23.4)\n",
      "Requirement already satisfied: requests>=2.31 in c:\\users\\gamer\\appdata\\local\\programs\\python\\python39\\lib\\site-packages (from yfinance) (2.32.3)\n",
      "Requirement already satisfied: multitasking>=0.0.7 in c:\\users\\gamer\\appdata\\local\\programs\\python\\python39\\lib\\site-packages (from yfinance) (0.0.11)\n",
      "Requirement already satisfied: lxml>=4.9.1 in c:\\users\\gamer\\appdata\\local\\programs\\python\\python39\\lib\\site-packages (from yfinance) (5.3.0)\n",
      "Requirement already satisfied: platformdirs>=2.0.0 in c:\\users\\gamer\\appdata\\roaming\\python\\python39\\site-packages (from yfinance) (4.3.6)\n",
      "Requirement already satisfied: pytz>=2022.5 in c:\\users\\gamer\\appdata\\local\\programs\\python\\python39\\lib\\site-packages (from yfinance) (2024.2)\n",
      "Requirement already satisfied: frozendict>=2.3.4 in c:\\users\\gamer\\appdata\\local\\programs\\python\\python39\\lib\\site-packages (from yfinance) (2.4.6)\n",
      "Requirement already satisfied: peewee>=3.16.2 in c:\\users\\gamer\\appdata\\local\\programs\\python\\python39\\lib\\site-packages (from yfinance) (3.17.8)\n",
      "Requirement already satisfied: beautifulsoup4>=4.11.1 in c:\\users\\gamer\\appdata\\local\\programs\\python\\python39\\lib\\site-packages (from yfinance) (4.12.3)\n",
      "Requirement already satisfied: html5lib>=1.1 in c:\\users\\gamer\\appdata\\local\\programs\\python\\python39\\lib\\site-packages (from yfinance) (1.1)\n",
      "Requirement already satisfied: soupsieve>1.2 in c:\\users\\gamer\\appdata\\local\\programs\\python\\python39\\lib\\site-packages (from beautifulsoup4>=4.11.1->yfinance) (2.6)\n",
      "Requirement already satisfied: six>=1.9 in c:\\users\\gamer\\appdata\\local\\programs\\python\\python39\\lib\\site-packages (from html5lib>=1.1->yfinance) (1.16.0)\n",
      "Requirement already satisfied: webencodings in c:\\users\\gamer\\appdata\\local\\programs\\python\\python39\\lib\\site-packages (from html5lib>=1.1->yfinance) (0.5.1)\n",
      "Requirement already satisfied: python-dateutil>=2.8.2 in c:\\users\\gamer\\appdata\\local\\programs\\python\\python39\\lib\\site-packages (from pandas>=1.3.0->yfinance) (2.8.2)\n",
      "Requirement already satisfied: tzdata>=2022.7 in c:\\users\\gamer\\appdata\\local\\programs\\python\\python39\\lib\\site-packages (from pandas>=1.3.0->yfinance) (2024.2)\n",
      "Requirement already satisfied: charset-normalizer<4,>=2 in c:\\users\\gamer\\appdata\\local\\programs\\python\\python39\\lib\\site-packages (from requests>=2.31->yfinance) (3.4.0)\n",
      "Requirement already satisfied: idna<4,>=2.5 in c:\\users\\gamer\\appdata\\local\\programs\\python\\python39\\lib\\site-packages (from requests>=2.31->yfinance) (3.10)\n",
      "Requirement already satisfied: urllib3<3,>=1.21.1 in c:\\users\\gamer\\appdata\\local\\programs\\python\\python39\\lib\\site-packages (from requests>=2.31->yfinance) (2.2.3)\n",
      "Requirement already satisfied: certifi>=2017.4.17 in c:\\users\\gamer\\appdata\\local\\programs\\python\\python39\\lib\\site-packages (from requests>=2.31->yfinance) (2024.8.30)\n",
      "Note: you may need to restart the kernel to use updated packages.\n"
     ]
    },
    {
     "name": "stderr",
     "output_type": "stream",
     "text": [
      "\n",
      "[notice] A new release of pip is available: 23.2.1 -> 24.3.1\n",
      "[notice] To update, run: python.exe -m pip install --upgrade pip\n"
     ]
    }
   ],
   "source": [
    "pip install yfinance"
   ]
  },
  {
   "cell_type": "code",
   "execution_count": 62,
   "metadata": {},
   "outputs": [],
   "source": [
    "#We import the libraries\n",
    "import yfinance as yf # type: ignore\n",
    "import pandas as pd # type: ignore\n",
    "import numpy as np\n",
    "from numpy import linalg as LA\n",
    "from numpy.linalg import inv"
   ]
  },
  {
   "cell_type": "markdown",
   "metadata": {},
   "source": [
    "Question 1:"
   ]
  },
  {
   "cell_type": "code",
   "execution_count": 63,
   "metadata": {},
   "outputs": [
    {
     "name": "stderr",
     "output_type": "stream",
     "text": [
      "C:\\Users\\gamer\\AppData\\Local\\Temp\\ipykernel_8244\\170970120.py:11: FutureWarning: DataFrame.fillna with 'method' is deprecated and will raise in a future version. Use obj.ffill() or obj.bfill() instead.\n",
      "  S = S.fillna(method='ffill').fillna(method='bfill')\n"
     ]
    },
    {
     "data": {
      "text/html": [
       "<div>\n",
       "<style scoped>\n",
       "    .dataframe tbody tr th:only-of-type {\n",
       "        vertical-align: middle;\n",
       "    }\n",
       "\n",
       "    .dataframe tbody tr th {\n",
       "        vertical-align: top;\n",
       "    }\n",
       "\n",
       "    .dataframe thead th {\n",
       "        text-align: right;\n",
       "    }\n",
       "</style>\n",
       "<table border=\"1\" class=\"dataframe\">\n",
       "  <thead>\n",
       "    <tr style=\"text-align: right;\">\n",
       "      <th></th>\n",
       "      <th>^RUT</th>\n",
       "      <th>^IXIC</th>\n",
       "      <th>^GSPC</th>\n",
       "      <th>XWD.TO</th>\n",
       "    </tr>\n",
       "    <tr>\n",
       "      <th>Date</th>\n",
       "      <th></th>\n",
       "      <th></th>\n",
       "      <th></th>\n",
       "      <th></th>\n",
       "    </tr>\n",
       "  </thead>\n",
       "  <tbody>\n",
       "    <tr>\n",
       "      <th>2014-01-02 00:00:00-05:00</th>\n",
       "      <td>1150.719971</td>\n",
       "      <td>4143.069824</td>\n",
       "      <td>1831.979980</td>\n",
       "      <td>27.058308</td>\n",
       "    </tr>\n",
       "    <tr>\n",
       "      <th>2014-01-03 00:00:00-05:00</th>\n",
       "      <td>1156.089966</td>\n",
       "      <td>4131.910156</td>\n",
       "      <td>1831.369995</td>\n",
       "      <td>27.100622</td>\n",
       "    </tr>\n",
       "    <tr>\n",
       "      <th>2014-01-06 00:00:00-05:00</th>\n",
       "      <td>1147.160034</td>\n",
       "      <td>4113.680176</td>\n",
       "      <td>1826.770020</td>\n",
       "      <td>27.100622</td>\n",
       "    </tr>\n",
       "    <tr>\n",
       "      <th>2014-01-07 00:00:00-05:00</th>\n",
       "      <td>1157.630005</td>\n",
       "      <td>4153.180176</td>\n",
       "      <td>1837.880005</td>\n",
       "      <td>27.566133</td>\n",
       "    </tr>\n",
       "    <tr>\n",
       "      <th>2014-01-08 00:00:00-05:00</th>\n",
       "      <td>1157.459961</td>\n",
       "      <td>4165.609863</td>\n",
       "      <td>1837.489990</td>\n",
       "      <td>27.557663</td>\n",
       "    </tr>\n",
       "  </tbody>\n",
       "</table>\n",
       "</div>"
      ],
      "text/plain": [
       "                                  ^RUT        ^IXIC        ^GSPC     XWD.TO\n",
       "Date                                                                       \n",
       "2014-01-02 00:00:00-05:00  1150.719971  4143.069824  1831.979980  27.058308\n",
       "2014-01-03 00:00:00-05:00  1156.089966  4131.910156  1831.369995  27.100622\n",
       "2014-01-06 00:00:00-05:00  1147.160034  4113.680176  1826.770020  27.100622\n",
       "2014-01-07 00:00:00-05:00  1157.630005  4153.180176  1837.880005  27.566133\n",
       "2014-01-08 00:00:00-05:00  1157.459961  4165.609863  1837.489990  27.557663"
      ]
     },
     "metadata": {},
     "output_type": "display_data"
    },
    {
     "data": {
      "text/html": [
       "<div>\n",
       "<style scoped>\n",
       "    .dataframe tbody tr th:only-of-type {\n",
       "        vertical-align: middle;\n",
       "    }\n",
       "\n",
       "    .dataframe tbody tr th {\n",
       "        vertical-align: top;\n",
       "    }\n",
       "\n",
       "    .dataframe thead th {\n",
       "        text-align: right;\n",
       "    }\n",
       "</style>\n",
       "<table border=\"1\" class=\"dataframe\">\n",
       "  <thead>\n",
       "    <tr style=\"text-align: right;\">\n",
       "      <th></th>\n",
       "      <th>^RUT</th>\n",
       "      <th>^IXIC</th>\n",
       "      <th>^GSPC</th>\n",
       "      <th>XWD.TO</th>\n",
       "    </tr>\n",
       "    <tr>\n",
       "      <th>Date</th>\n",
       "      <th></th>\n",
       "      <th></th>\n",
       "      <th></th>\n",
       "      <th></th>\n",
       "    </tr>\n",
       "  </thead>\n",
       "  <tbody>\n",
       "    <tr>\n",
       "      <th>2014-12-24 00:00:00-05:00</th>\n",
       "      <td>1206.780029</td>\n",
       "      <td>4773.470215</td>\n",
       "      <td>2081.879883</td>\n",
       "      <td>31.666769</td>\n",
       "    </tr>\n",
       "    <tr>\n",
       "      <th>2014-12-26 00:00:00-05:00</th>\n",
       "      <td>1215.209961</td>\n",
       "      <td>4806.859863</td>\n",
       "      <td>2088.770020</td>\n",
       "      <td>31.666769</td>\n",
       "    </tr>\n",
       "    <tr>\n",
       "      <th>2014-12-29 00:00:00-05:00</th>\n",
       "      <td>1219.109985</td>\n",
       "      <td>4806.910156</td>\n",
       "      <td>2090.570068</td>\n",
       "      <td>31.679703</td>\n",
       "    </tr>\n",
       "    <tr>\n",
       "      <th>2014-12-30 00:00:00-05:00</th>\n",
       "      <td>1213.050049</td>\n",
       "      <td>4777.439941</td>\n",
       "      <td>2080.350098</td>\n",
       "      <td>31.438272</td>\n",
       "    </tr>\n",
       "    <tr>\n",
       "      <th>2014-12-31 00:00:00-05:00</th>\n",
       "      <td>1204.699951</td>\n",
       "      <td>4736.049805</td>\n",
       "      <td>2058.899902</td>\n",
       "      <td>31.300304</td>\n",
       "    </tr>\n",
       "  </tbody>\n",
       "</table>\n",
       "</div>"
      ],
      "text/plain": [
       "                                  ^RUT        ^IXIC        ^GSPC     XWD.TO\n",
       "Date                                                                       \n",
       "2014-12-24 00:00:00-05:00  1206.780029  4773.470215  2081.879883  31.666769\n",
       "2014-12-26 00:00:00-05:00  1215.209961  4806.859863  2088.770020  31.666769\n",
       "2014-12-29 00:00:00-05:00  1219.109985  4806.910156  2090.570068  31.679703\n",
       "2014-12-30 00:00:00-05:00  1213.050049  4777.439941  2080.350098  31.438272\n",
       "2014-12-31 00:00:00-05:00  1204.699951  4736.049805  2058.899902  31.300304"
      ]
     },
     "metadata": {},
     "output_type": "display_data"
    }
   ],
   "source": [
    "Tickers = ['^RUT','^IXIC','^GSPC','XWD.TO']\n",
    "startinput = '2014-01-01'\n",
    "endinput = '2015-01-01'\n",
    "\n",
    "S=pd.DataFrame()\n",
    "\n",
    "for t in Tickers:\n",
    "    S[t]=yf.Ticker(t).history(start=startinput, end=endinput)['Close']\n",
    "\n",
    "# We remove the NaN values for each column\n",
    "S = S.fillna(method='ffill').fillna(method='bfill')\n",
    "\n",
    "# Show the first 5 and last 5 rows of the dataframe\n",
    "display(S.head())\n",
    "display(S.tail())\n"
   ]
  },
  {
   "cell_type": "code",
   "execution_count": 64,
   "metadata": {},
   "outputs": [],
   "source": [
    "#We compute the return vector R\n",
    "R=S/S.shift(1)-1\n",
    "R=R[1:]\n",
    "\n",
    "Mean_d=R.mean()\n",
    "Covar_d=R.cov()\n",
    "Corr=R.corr()"
   ]
  },
  {
   "cell_type": "code",
   "execution_count": 73,
   "metadata": {},
   "outputs": [
    {
     "name": "stdout",
     "output_type": "stream",
     "text": [
      "The allocation of the Tangent Portfolio is: [-1.80878998  2.07669512 -0.20745803  0.93955288]\n"
     ]
    }
   ],
   "source": [
    "Mean=Mean_d*252 #Annualized mean\n",
    "Covar=Covar_d*252 #Annualized covariance\n",
    "\n",
    "r=2/100 #We take r0=2%\n",
    "d=len(Tickers)\n",
    "Vec1 = np.linspace(1,1,d)\n",
    "Sigma = Covar\n",
    "InvSigma = inv(Sigma) \n",
    "\n",
    "#Important variables calculations\n",
    "\n",
    "a=Vec1.T.dot(InvSigma).dot(Vec1) \n",
    "b=Vec1.T.dot(InvSigma).dot(Mean)\n",
    "\n",
    "#Tanget portfolio\n",
    "pi_T= (InvSigma.dot(Mean-r*Vec1))/(b-a*r) #Tangent Portfolio\n",
    "\n",
    "print(\"The allocation of the Tangent Portfolio is:\",pi_T) "
   ]
  },
  {
   "cell_type": "markdown",
   "metadata": {},
   "source": [
    "Question 2:\n",
    "1. Annualized volatilities and expected returns of the Tangent Portfolio\n"
   ]
  },
  {
   "cell_type": "code",
   "execution_count": null,
   "metadata": {},
   "outputs": [
    {
     "name": "stdout",
     "output_type": "stream",
     "text": [
      "Annualized volatilies of the Tangent Portfolio: 0.16939013552718102\n",
      "Annualized expected returns of the Tangent Portfolio: 0.3103789977335803\n"
     ]
    }
   ],
   "source": [
    "sd_T=np.sqrt(pi_T.dot(Sigma).dot(pi_T)) #Annualized volatility of the Tangent Portfolio\n",
    "mean_T=pi_T.dot(Mean)   #Annualized expected return of the Tangent Portfolio\n",
    "\n",
    "print(\"Annualized volatilies of the Tangent Portfolio:\", sd_T)\n",
    "print(\"Annualized expected returns of the Tangent Portfolio:\", mean_T)"
   ]
  },
  {
   "cell_type": "markdown",
   "metadata": {},
   "source": [
    "2.Annualized volatilities and expected returns of the 4 assets"
   ]
  },
  {
   "cell_type": "code",
   "execution_count": 71,
   "metadata": {},
   "outputs": [
    {
     "name": "stdout",
     "output_type": "stream",
     "text": [
      "Expected returns of the 4 assets:\n",
      " ^RUT      0.059325\n",
      "^IXIC     0.144324\n",
      "^GSPC     0.123698\n",
      "XWD.TO    0.152872\n",
      "dtype: float64\n",
      "\n",
      "Variance Covariance matrix:\n",
      "             ^RUT     ^IXIC     ^GSPC    XWD.TO\n",
      "^RUT    0.026661  0.020909  0.015474  0.012665\n",
      "^IXIC   0.020909  0.020011  0.014946  0.012398\n",
      "^GSPC   0.015474  0.014946  0.012893  0.010507\n",
      "XWD.TO  0.012665  0.012398  0.010507  0.013272\n",
      "\n",
      "Volatilities for the 4 assets:\n",
      " ^RUT      0.163283\n",
      "^IXIC     0.141460\n",
      "^GSPC     0.113547\n",
      "XWD.TO    0.115204\n",
      "dtype: float64\n"
     ]
    }
   ],
   "source": [
    "print(\"Expected returns of the 4 assets:\\n\", Mean)\n",
    "print(\"\\nVariance Covariance matrix:\\n\", Covar)\n",
    "\n",
    "STD=np.sqrt(np.diag(Covar))\n",
    "STD_named = pd.Series(STD, index=Tickers)\n",
    "print(\"\\nVolatilities for the 4 assets:\\n\", STD_named)"
   ]
  },
  {
   "cell_type": "markdown",
   "metadata": {},
   "source": [
    "Question 3:\n"
   ]
  },
  {
   "cell_type": "code",
   "execution_count": 72,
   "metadata": {},
   "outputs": [
    {
     "name": "stdout",
     "output_type": "stream",
     "text": [
      "Sharpe ratio of the Tangent Portfolio: 1.7142615585603855\n",
      "Sharpe ratio of the 4 assets:\n",
      " ^RUT      0.240839\n",
      "^IXIC     0.878861\n",
      "^GSPC     0.913259\n",
      "XWD.TO    1.153357\n",
      "dtype: float64\n"
     ]
    }
   ],
   "source": [
    "print(\"Sharpe ratio of the Tangent Portfolio:\", (mean_T-r)/sd_T)\n",
    "print(\"Sharpe ratio of the 4 assets:\\n\", (Mean-r)/STD)\n"
   ]
  }
 ],
 "metadata": {
  "kernelspec": {
   "display_name": "Python 3",
   "language": "python",
   "name": "python3"
  },
  "language_info": {
   "codemirror_mode": {
    "name": "ipython",
    "version": 3
   },
   "file_extension": ".py",
   "mimetype": "text/x-python",
   "name": "python",
   "nbconvert_exporter": "python",
   "pygments_lexer": "ipython3",
   "version": "3.9.7"
  }
 },
 "nbformat": 4,
 "nbformat_minor": 2
}
